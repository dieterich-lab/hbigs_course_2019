{
 "cells": [
  {
   "cell_type": "markdown",
   "metadata": {},
   "source": [
    "# Intro to DTU\n",
    "\n",
    "lorem ipsum"
   ]
  },
  {
   "cell_type": "markdown",
   "metadata": {},
   "source": [
    "First, let's load the transcript abundance values computed with Salmon"
   ]
  },
  {
   "cell_type": "markdown",
   "metadata": {},
   "source": [
    "We use `rtracklayer` this lib to load and handle GTF files\n",
    "and `stringr` to make string operations easier "
   ]
  },
  {
   "cell_type": "code",
   "execution_count": 6,
   "metadata": {},
   "outputs": [],
   "source": [
    "suppressPackageStartupMessages({ \n",
    "    library(rtracklayer)\n",
    "    library(stringr)\n",
    "    })"
   ]
  },
  {
   "cell_type": "markdown",
   "metadata": {},
   "source": [
    "Creates tx2gene, a object the holds the mapping between genes and transcripts"
   ]
  },
  {
   "cell_type": "code",
   "execution_count": 7,
   "metadata": {},
   "outputs": [],
   "source": [
    "gtf.path <- '/biodb/genomes/homo_sapiens/GRCh38_96/GRCh38.96.gtf'\n",
    "gtf <- rtracklayer::import(gtf.path)"
   ]
  },
  {
   "cell_type": "code",
   "execution_count": null,
   "metadata": {},
   "outputs": [],
   "source": [
    "head(gtf)"
   ]
  },
  {
   "cell_type": "markdown",
   "metadata": {},
   "source": [
    "Here we load the Salmon results using [`tximport`](https://bioconductor.org/packages/release/bioc/html/tximport.html)"
   ]
  },
  {
   "cell_type": "code",
   "execution_count": null,
   "metadata": {},
   "outputs": [],
   "source": [
    "tx2gene <- as.data.frame(gtf)[\n",
    "    , c('gene_id', 'transcript_id', 'gene_name', 'transcript_name')]"
   ]
  },
  {
   "cell_type": "code",
   "execution_count": null,
   "metadata": {},
   "outputs": [],
   "source": [
    "files <- Sys.glob('salmon/*/quant.sf')\n",
    "txi <- tximport(\n",
    "  files,\n",
    "  type = \"salmon\",\n",
    "  tx2gene = tx2gene,\n",
    "  countsFromAbundance = \"scaledTPM\",\n",
    "  txOut = TRUE\n",
    ")\n",
    "\n",
    "cts <- txi$counts"
   ]
  },
  {
   "cell_type": "markdown",
   "metadata": {},
   "source": [
    "If you know R, you can subset or filter transcript in the next step. **But** be careful, some operations may break the assumptions of the program you are using. Here we only change the conditions names, which we extract from the file names we use as input"
   ]
  },
  {
   "cell_type": "code",
   "execution_count": null,
   "metadata": {},
   "outputs": [],
   "source": [
    "colnames(cts) <- str_split(files, '/', simplify = TRUE)[, 2]"
   ]
  },
  {
   "cell_type": "markdown",
   "metadata": {},
   "source": [
    "For this analysis we use DRIMSeq, and the manual is [here](https://www.bioconductor.org/packages/release/bioc/vignettes/DRIMSeq/inst/doc/DRIMSeq.pdf)"
   ]
  },
  {
   "cell_type": "code",
   "execution_count": 5,
   "metadata": {},
   "outputs": [
    {
     "ename": "ERROR",
     "evalue": "Error in head(tx2gene): object 'tx2gene' not found\n",
     "output_type": "error",
     "traceback": [
      "Error in head(tx2gene): object 'tx2gene' not found\nTraceback:\n",
      "1. head(tx2gene)"
     ]
    }
   ],
   "source": [
    "head(tx2gene)"
   ]
  },
  {
   "cell_type": "code",
   "execution_count": null,
   "metadata": {},
   "outputs": [],
   "source": [
    "# subset cts per protein coding transcripts\n",
    "matching <- intersect(rownames(cts), tx2gene$transcript_id)\n",
    "# gene_ids <- setNames(tx2gene$gene_id, tx2gene$transcript_id)\n",
    "\n",
    "counts <- base::data.frame(\n",
    "  gene_id = gene_ids[tx2gene$gene_name ],\n",
    "  feature_id = tx2gene$transcript_id,\n",
    "  cts <- cts[matching, ]\n",
    ")\n",
    "\n",
    "samples <- base::data.frame(sample_id = colnames(cts))\n",
    "samples$condition <- str_split(samples$sample_id, '_', simplify = TRUE)[,1]\n",
    "\n"
   ]
  },
  {
   "cell_type": "code",
   "execution_count": null,
   "metadata": {},
   "outputs": [],
   "source": [
    "suppressPackageStartupMessages({\n",
    "    library(DRIMSeq)\n",
    "    library(BiocParallel)\n",
    "})\n",
    "    \n",
    "d <- dmDSdata(counts = counts, samples = samples)\n",
    "d <- dmFilter(\n",
    "  d,\n",
    "  min_feature_expr = 10,\n",
    "  min_feature_prop = 0.1,\n",
    "  min_samps_gene_expr = 3,\n",
    "  min_gene_expr = 10\n",
    ")\n",
    "\n",
    "design_full <- model.matrix(~condition, data = samples(d))\n",
    "d <- dmPrecision(d, design = design_full, BPPARAM=BiocParallel::MulticoreParam(10))\n",
    "plotData(d)\n",
    "d <- dmFit(d, design = design_full, verbose = 1, \n",
    "           BPPARAM=BiocParallel::MulticoreParam(40)\n",
    ")\n",
    "plotData(d)\n",
    "library(ggplot2)\n",
    "\n",
    "dir.create('proportion_plots')\n",
    "\n",
    "for (gene in names(d@counts) ){\n",
    "  cat(gene, '\\n')\n",
    "  p <- plotProportions(\n",
    "    d, plot_type = 'boxplot2', gene_id = gene, group_variable = \"condition\")\n",
    "  ggsave( str_glue('proportion_plots/{gene}.png'), width = 10, height = 7 )\n",
    "}\n"
   ]
  }
 ],
 "metadata": {
  "kernelspec": {
   "display_name": "R",
   "language": "R",
   "name": "ir"
  },
  "language_info": {
   "codemirror_mode": "r",
   "file_extension": ".r",
   "mimetype": "text/x-r-source",
   "name": "R",
   "pygments_lexer": "r",
   "version": "3.5.1"
  }
 },
 "nbformat": 4,
 "nbformat_minor": 2
}
